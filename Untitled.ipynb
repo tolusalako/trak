{
 "cells": [
  {
   "cell_type": "code",
   "execution_count": null,
   "metadata": {
    "collapsed": false
   },
   "outputs": [],
   "source": [
    "import threading, time\n",
    "#TODO: multiple threads management\n",
    "        \n",
    "def func(args):\n",
    "    print 'yo'\n",
    "\n",
    "class Thread(threading.Thread):\n",
    "\tdef __init__(self):\n",
    "\t\tthreading.Thread.__init__(self)\n",
    "\t\tself._stop = False\n",
    "\n",
    "   \tdef run(self, function, args, delay):\n",
    "\t\tself._stop = False\n",
    "\t\twhile(not self._stop):\n",
    "\t\t\tresult = function(args)\n",
    "\t\t\tif result != None:\n",
    "\t\t\t\treturn result\n",
    "\t\t\ttime.sleep(delay)\n",
    "\n",
    "\tdef stop(self):\n",
    "\t\tself._stop = True\n",
    "\n",
    "if __name__ == '__main__':\n",
    "    t = Thread()\n",
    "    t.run(func, None, 5)"
   ]
  },
  {
   "cell_type": "code",
   "execution_count": null,
   "metadata": {
    "collapsed": true
   },
   "outputs": [],
   "source": []
  },
  {
   "cell_type": "code",
   "execution_count": null,
   "metadata": {
    "collapsed": true
   },
   "outputs": [],
   "source": []
  }
 ],
 "metadata": {
  "kernelspec": {
   "display_name": "Python 2",
   "language": "python",
   "name": "python2"
  },
  "language_info": {
   "codemirror_mode": {
    "name": "ipython",
    "version": 2
   },
   "file_extension": ".py",
   "mimetype": "text/x-python",
   "name": "python",
   "nbconvert_exporter": "python",
   "pygments_lexer": "ipython2",
   "version": "2.7.10"
  }
 },
 "nbformat": 4,
 "nbformat_minor": 0
}
